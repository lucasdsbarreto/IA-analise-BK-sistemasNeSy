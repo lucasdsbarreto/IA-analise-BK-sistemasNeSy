{
  "nbformat": 4,
  "nbformat_minor": 0,
  "metadata": {
    "colab": {
      "name": "Trabalho_Final.ipynb",
      "provenance": [],
      "collapsed_sections": [
        "dssAMzNegzmB"
      ],
      "toc_visible": true,
      "include_colab_link": true
    },
    "kernelspec": {
      "name": "python3",
      "display_name": "Python 3"
    },
    "language_info": {
      "name": "python"
    }
  },
  "cells": [
    {
      "cell_type": "markdown",
      "metadata": {
        "id": "view-in-github",
        "colab_type": "text"
      },
      "source": [
        "<a href=\"https://colab.research.google.com/github/lucasdsbarreto/IA-analise-BK-sistemasNeSy/blob/main/Trabalho_Final.ipynb\" target=\"_parent\"><img src=\"https://colab.research.google.com/assets/colab-badge.svg\" alt=\"Open In Colab\"/></a>"
      ]
    },
    {
      "cell_type": "markdown",
      "source": [
        "# Modelo CILP\n",
        "Experimentos com exemplos positivos e negativos\n"
      ],
      "metadata": {
        "id": "eMR3AMyRgtX4"
      }
    },
    {
      "cell_type": "markdown",
      "source": [
        "## Bibliotecas"
      ],
      "metadata": {
        "id": "dssAMzNegzmB"
      }
    },
    {
      "cell_type": "code",
      "source": [
        "import math\n",
        "import random\n",
        "import numpy as np"
      ],
      "metadata": {
        "id": "WmM_K8XBa3sl"
      },
      "execution_count": 1,
      "outputs": []
    },
    {
      "cell_type": "markdown",
      "source": [
        "## Class Neural Network"
      ],
      "metadata": {
        "id": "SqBXxxleg4IX"
      }
    },
    {
      "cell_type": "code",
      "source": [
        "def predict (valores):\n",
        "  predicoes = [1 if v >=0.5 else 0 for v in valores]\n",
        "  return predicoes"
      ],
      "metadata": {
        "id": "qqwmR55u82EM"
      },
      "execution_count": 2,
      "outputs": []
    },
    {
      "cell_type": "code",
      "source": [
        "\n",
        "random.seed(0)\n",
        "def rand(a, b):\n",
        "  return (b-a)*random.random() + a\n",
        "\n",
        "def sigmoid(x, diff=False):\n",
        "  if diff:\n",
        "    return 1.0 - x**2\n",
        "  else:\n",
        "    return math.tanh(x)\n",
        "\n",
        "class NN:\n",
        "  def __init__(self, ni, nh, no, pesos, w):\n",
        "    self.ni = ni + 1 \n",
        "    self.nh = nh \n",
        "    self.no = no\n",
        "\n",
        "    self.ai = [1.0]*self.ni\n",
        "    self.ah = [1.0]*self.nh\n",
        "    self.ao = [1.0]*self.no\n",
        "\n",
        "\n",
        "    self.wi = np.zeros((self.ni, self.nh))\n",
        "    self.wo = np.zeros((self.nh, self.no))\n",
        "\n",
        "    self.wi = pesos\n",
        "\n",
        "    for j in range(self.nh):\n",
        "      for k in range(self.no):\n",
        "        self.wo[j][k] = rand(-0.2, 0.2)\n",
        "\n",
        "    self.ci = np.zeros((self.ni, self.nh))\n",
        "    self.co = np.zeros((self.nh, self.no))\n",
        "\n",
        "  def update(self, inputs):\n",
        "    if len(inputs) != self.ni-1:\n",
        "      raise ValueError('input error')\n",
        "\n",
        "\n",
        "    for i in range(self.ni-1):\n",
        "      self.ai[i] = inputs[i]\n",
        "\n",
        "    for j in range(self.nh):\n",
        "      sum = 0.0\n",
        "      for i in range(self.ni):\n",
        "          sum = sum + self.ai[i] * self.wi[i][j]\n",
        "      self.ah[j] = sigmoid(sum)\n",
        "\n",
        "    for k in range(self.no):\n",
        "      sum = 0.0\n",
        "      for j in range(self.nh):\n",
        "          sum = sum + self.ah[j] * self.wo[j][k]\n",
        "      self.ao[k] = sigmoid(sum)\n",
        "\n",
        "    return self.ao[:]\n",
        "\n",
        "\n",
        "  def backpropagation(self, targets, N, M):\n",
        "    if len(targets) != self.no:\n",
        "      raise ValueError('wrong number of target values')\n",
        "\n",
        "    output_deltas = [0.0] * self.no\n",
        "    for k in range(self.no):\n",
        "      error = targets[k]-self.ao[k]\n",
        "      output_deltas[k] = sigmoid(self.ao[k], diff=True) * error\n",
        "\n",
        "    hidden_deltas = [0.0] * self.nh\n",
        "    for j in range(self.nh):\n",
        "      error = 0.0\n",
        "      for k in range(self.no):\n",
        "          error = error + output_deltas[k]*self.wo[j][k]\n",
        "      hidden_deltas[j] = sigmoid(self.ah[j], diff=True) * error\n",
        "\n",
        "    for j in range(self.nh):\n",
        "      for k in range(self.no):\n",
        "        change = output_deltas[k]*self.ah[j]\n",
        "        self.wo[j][k] = self.wo[j][k] + N*change + M*self.co[j][k]\n",
        "        self.co[j][k] = change\n",
        "\n",
        "    for i in range(self.ni):\n",
        "      for j in range(self.nh):\n",
        "        change = hidden_deltas[j]*self.ai[i]\n",
        "        self.wi[i][j] = self.wi[i][j] + N*change + M*self.ci[i][j]\n",
        "        self.ci[i][j] = change\n",
        "\n",
        "    error = 0.0\n",
        "    for i in range(len(targets)):\n",
        "      error = error + 0.5*(targets[i]-self.ao[i])**2\n",
        "\n",
        "    return error\n",
        "\n",
        "\n",
        "  def test(self, patterns):\n",
        "    for p in patterns: print(p[0], '- predição ->', predict(self.update(p[0])),\"resultado esperado ->\",p[1])\n",
        "\n",
        "  def weights(self):\n",
        "    print(' Input weights:')\n",
        "    for i in range(self.ni): print(self.wi[i])\n",
        "\n",
        "    print('\\n Output weights:')\n",
        "    for j in range(self.nh): print(self.wo[j])\n",
        "\n",
        "  def train(self, patterns, iterations=2598, N=0.5, M=0.1):\n",
        "    for i in range(iterations):\n",
        "\n",
        "      error = 0.0\n",
        "      for p in patterns:\n",
        "        inputs = p[0]\n",
        "        targets = p[1]\n",
        "        self.update(inputs)\n",
        "        error = error + self.backpropagation(targets, N, M)\n"
      ],
      "metadata": {
        "id": "kZq-E46caJUh"
      },
      "execution_count": 3,
      "outputs": []
    },
    {
      "cell_type": "markdown",
      "source": [
        "## CILP"
      ],
      "metadata": {
        "id": "KeBEdO0bL-Fh"
      }
    },
    {
      "cell_type": "markdown",
      "source": [
        "## Funções principais"
      ],
      "metadata": {
        "id": "CVX_BFeQ14hi"
      }
    },
    {
      "cell_type": "code",
      "source": [
        "\n",
        "def funcH(x,b):\n",
        "  aux = math.exp(-b*x)\n",
        "  return ((2/(1 + aux)) - 1)\n",
        "\n",
        "\n",
        "# use to know a negation variable\n",
        "def isNot(x, ver=False):\n",
        "  \n",
        "  if ver:\n",
        "    if x!='':\n",
        "      if x[0]==\"-\":\n",
        "        return True\n",
        "      else: return False\n",
        "    else: return False\n",
        "\n",
        "  else:\n",
        "    if x[0]==\"-\":\n",
        "      return x[1]\n",
        "    else:\n",
        "      return \"-\"+x\n",
        "\n",
        "# get litearais\n",
        "def literais(P):\n",
        "  all = []\n",
        "  for r in P:\n",
        "    for s in r:\n",
        "      for t in s:\n",
        "        if (t not in all) and (t != '') and (isNot(t) not in all):\n",
        "          if isNot(t,True):\n",
        "            all.append(isNot(t))\n",
        "          else:\n",
        "            all.append(t)\n",
        "  return all\n",
        "\n",
        "\n",
        "def neg_pos(P):\n",
        "  Neg = []\n",
        "  Pos = []\n",
        "  for k in P:\n",
        "    n=0\n",
        "    p=0\n",
        "    for r in k[1]:\n",
        "      if isNot(r,True):\n",
        "        print(\"neg: \"+r)\n",
        "        n+=1\n",
        "      else:\n",
        "        if r!='':\n",
        "          print(\"pos:  \"+r)\n",
        "          p+=1\n",
        "\n",
        "    Neg.append(n)\n",
        "    Pos.append(p)\n",
        "    print()\n",
        "  return Neg,Pos\n",
        "\n",
        "# get values from data\n",
        "def q_v_k(P):\n",
        "  q = len(P)\n",
        "  v = len(literais(P))\n",
        "  K = []\n",
        "  k = 0\n",
        "  for r in P:\n",
        "    if r[1]!=['']:\n",
        "      K.append(len(r[1]))\n",
        "    else:\n",
        "      K.append(0)\n",
        "\n",
        "  return q,v,K\n",
        "\n",
        "def u_heads(P):\n",
        "  heads = [a[0] for a in P]\n",
        "  return [heads.count(a) for a in heads]\n",
        "\n",
        "# variable MAXp\n",
        "def Maxr(k,u):\n",
        "  if k>u: return k\n",
        "  else: return u\n",
        "\n",
        "def Maxp(k,u):\n",
        "  max = 0\n",
        "  for i in k:\n",
        "    for j in u:\n",
        "      if Maxr(i,j)>max:\n",
        "        max = Maxr(i,j)\n",
        "  return max\n",
        "\n",
        "# variable Amin\n",
        "def Amin(k,u):\n",
        "  return ((Maxp(k,u)-1) / (Maxp(k,u)+1))\n",
        "\n",
        "def W_pesos(k,u,b, amin):\n",
        "  return (2/b)*(math.log(1+amin)-math.log(1-amin))/(Maxp(k,u)*(amin-1) + amin+1)\n",
        "\n",
        "# hidden layer\n",
        "def threshold_hidden(amin, K, W):\n",
        "  return [(1+amin)*(k-1)*W/2 for k in K]\n",
        "\n",
        "def empyt(x):\n",
        "  if x=='':\n",
        "    return 0\n",
        "  else: return 1"
      ],
      "metadata": {
        "id": "raMW4QQ6q14k"
      },
      "execution_count": 4,
      "outputs": []
    },
    {
      "cell_type": "code",
      "source": [
        "def W_pesos(k,u,b, amin):\n",
        "  return (2/b)*(math.log(1+amin)-math.log(1-amin))/(Maxp(k,u)*(amin-1) + amin+1)\n"
      ],
      "metadata": {
        "id": "UC8GJbY4-zdV"
      },
      "execution_count": 5,
      "outputs": []
    },
    {
      "cell_type": "code",
      "source": [
        "def negacoes(c):\n",
        "  n = c[1]\n",
        "  for i in range(len(n)):\n",
        "    if isNot(n[i], True):\n",
        "      n[i]=isNot(n[i])\n",
        "  return n"
      ],
      "metadata": {
        "id": "E-XRvKBKaG2q"
      },
      "execution_count": 6,
      "outputs": []
    },
    {
      "cell_type": "code",
      "source": [
        "\n",
        "def pesos_clauses(P, w, amin):\n",
        "  pesos = []\n",
        "  for r in P:\n",
        "    l = literais(P)\n",
        "    l.append('Bias')\n",
        "    dicio = dict.fromkeys(l, 0)\n",
        "    try:\n",
        "        while True:\n",
        "            r[1].remove('')\n",
        "    except ValueError:\n",
        "        pass\n",
        "    values = [-1 if isNot(a, True) else empyt(a) for a in r[1]]\n",
        "    keys = negacoes(r)\n",
        "    for i in range(len(keys)):\n",
        "      dicio[keys[i]] = values[i]\n",
        "    pesos.append(list(dicio.values()))\n",
        "  \n",
        "  for i in range(len(pesos)):\n",
        "    for a in range(len(pesos[i])):\n",
        "      # print(a)\n",
        "      pesos[i][a]=pesos[i][a]*w\n",
        "  pesos = np.transpose(pesos)\n",
        "  q, v, K = q_v_k(P)\n",
        "  pesos[-1] = threshold_hidden(amin, K, w)\n",
        "  return pesos"
      ],
      "metadata": {
        "id": "IZVoKk-Fcadc"
      },
      "execution_count": 7,
      "outputs": []
    },
    {
      "cell_type": "markdown",
      "source": [
        "##Experimento 1"
      ],
      "metadata": {
        "id": "qzFUbnEE5Tcb"
      }
    },
    {
      "cell_type": "markdown",
      "source": [
        "-> Clausulas Escolhidas para Experimento\n",
        "\n",
        "hd(X) :- female(X), parent(X,Y), female(Y).\n",
        "\n",
        "hd(X) :- male(X), parent(Y,X).\n",
        "\n",
        "hd(X) :- female(X), parent(Y,X), male(Y).\n",
        "\n",
        "hd(X) :- male(X), parent(X,Y), female(Y).\n",
        "\n",
        "hd(X) :- female(X), parent(Y,X).\n",
        "\n",
        "hd(X) :- male(X), parent(X,Y).\n",
        "\n"
      ],
      "metadata": {
        "id": "9YZw9nTq_U9D"
      }
    },
    {
      "cell_type": "markdown",
      "source": [
        "->Relação entre as regras para literais\n",
        "\n",
        "A : hd(X)\n",
        "\n",
        "B : female(X)\n",
        "\n",
        "C : male(X)\n",
        "\n",
        "D : parent(X,Y)\n",
        "\n",
        "E : female(Y)\n",
        "\n",
        "F : male(Y)\n",
        "\n",
        "G : parent(Y,X)\n",
        "\n",
        "H : male(Y)\n"
      ],
      "metadata": {
        "id": "PlKEfv7XCA26"
      }
    },
    {
      "cell_type": "markdown",
      "source": [
        "-> Cláusulas como literais\n",
        "\n",
        "A :- B, D, E.\n",
        "\n",
        "A :- C, G.\n",
        "\n",
        "A :- B, G, H.\n",
        "\n",
        "A :- C, D, E.\n",
        "\n",
        "A :- B, G.\n",
        "\n",
        "A :- C, D."
      ],
      "metadata": {
        "id": "iskzFe0TCDDr"
      }
    },
    {
      "cell_type": "markdown",
      "source": [
        "###Treino"
      ],
      "metadata": {
        "id": "u8kkRcbf5obb"
      }
    },
    {
      "cell_type": "code",
      "source": [
        "\n",
        "# Coloca a base de treino aqui\n",
        "input = [      \n",
        "        #tom\n",
        "        [[0,1,1,1,1,0,0], [1]],\n",
        "        #pam\n",
        "        # [[1,0,1,0,1,0,0], [0]],\n",
        "        #liz\n",
        "        [[1,0,0,0,0,1,1], [0]],\n",
        "        #bob\n",
        "        # [[0,1,1,1,0,1,1], [1]],\n",
        "        #ann\n",
        "        [[1,0,1,1,0,1,1], [1]],\n",
        "        #pat\n",
        "        [[1,0,1,0,1,1,1], [0]],\n",
        "        #jim\n",
        "        [[0,1,0,0,0,1,0], [0]],\n",
        "        #eve\n",
        "        [[1,0,0,0,0,1,0], [0]],\n",
        "        \n",
        "]\n",
        "\n",
        "\n",
        "P = [['A', ['B', 'D','E']], ['A', ['-C', '-G']], ['A', ['-B', '-G','-H']], ['A', ['C', 'D','E']], ['A', ['-B', '-G']], ['A', ['-E', '-G']]]\n",
        "\n",
        "q, v, K = q_v_k(P)\n",
        "U = u_heads(P)\n",
        "amin = (1 - Amin(K,U))/2 + Amin(K,U)\n",
        "w = W_pesos(K, U, 1, amin)\n",
        "\n",
        "pesos = pesos_clauses(P,w,amin)\n",
        "print(\"Numero de Entradas:\",v)\n",
        "print(\"Numero de Camadas Ocultas:\",q)\n",
        "# Estrutura da rede\n",
        "  # n entradas\n",
        "  # n camadas invisíveis\n",
        "  # n saídas \n",
        "  # lista de pesos\n",
        "  # W calculado\n",
        "n = NN(v, q, 1, pesos, w)\n",
        "\n",
        "#Treino\n",
        "n.train(input)\n"
      ],
      "metadata": {
        "colab": {
          "base_uri": "https://localhost:8080/"
        },
        "id": "P5o8RtUh5qJs",
        "outputId": "8c7f47d2-0505-40e0-96ba-74b22732b8f0"
      },
      "execution_count": 8,
      "outputs": [
        {
          "output_type": "stream",
          "name": "stdout",
          "text": [
            "Numero de Entradas: 7\n",
            "Numero de Camadas Ocultas: 6\n"
          ]
        }
      ]
    },
    {
      "cell_type": "markdown",
      "source": [
        "###Teste"
      ],
      "metadata": {
        "id": "q4rJ9F3Y5tqF"
      }
    },
    {
      "cell_type": "code",
      "source": [
        "\n",
        "#Teste\n",
        "output = [      \n",
        "        #pam\n",
        "        [[1,0,1,0,1,0,0],[0]],\n",
        "        #bob\n",
        "        [[0,1,1,1,0,1,1],[1]],\n",
        "        #pat\n",
        "        [[1,0,1,0,1,1,1],[0]],\n",
        "]\n",
        "n.test(output)"
      ],
      "metadata": {
        "colab": {
          "base_uri": "https://localhost:8080/"
        },
        "id": "kA_GXc0iVDxn",
        "outputId": "2525a97e-c84a-4033-f502-92c21830bd75"
      },
      "execution_count": 9,
      "outputs": [
        {
          "output_type": "stream",
          "name": "stdout",
          "text": [
            "[1, 0, 1, 0, 1, 0, 0] - predição -> [0] resultado esperado -> [0]\n",
            "[0, 1, 1, 1, 0, 1, 1] - predição -> [1] resultado esperado -> [1]\n",
            "[1, 0, 1, 0, 1, 1, 1] - predição -> [0] resultado esperado -> [0]\n"
          ]
        }
      ]
    },
    {
      "cell_type": "markdown",
      "source": [
        "##Experimento 2"
      ],
      "metadata": {
        "id": "6fIdH4UU6Kdg"
      }
    },
    {
      "cell_type": "markdown",
      "source": [
        "-> Clausulas Escolhidas para Experimento\n",
        "\n",
        "hd(X) :- female(X), parent(X,Y), female(Y).\n",
        "\n",
        "hd(X) :- male(X), parent(X,Y), female(Y).\n"
      ],
      "metadata": {
        "id": "UXuLgXW5CrbJ"
      }
    },
    {
      "cell_type": "markdown",
      "source": [
        "->Relação entre as regras para literais\n",
        "\n",
        "A : hd(X)\n",
        "\n",
        "B : female(X)\n",
        "\n",
        "C : male(X)\n",
        "\n",
        "D : parent(X,Y)\n",
        "\n",
        "E : female(Y)\n",
        "\n",
        "F : male(Y)\n"
      ],
      "metadata": {
        "id": "JAYvF3Q4CrbS"
      }
    },
    {
      "cell_type": "markdown",
      "source": [
        "-> Cláusulas como literais\n",
        "\n",
        "A :- B, D, E.\n",
        "\n",
        "A :- C, D, E."
      ],
      "metadata": {
        "id": "6cqVQJHrCrbS"
      }
    },
    {
      "cell_type": "markdown",
      "source": [
        "###Treino"
      ],
      "metadata": {
        "id": "vCdSVdxB6Kdr"
      }
    },
    {
      "cell_type": "code",
      "source": [
        "\n",
        "# Coloca a base de treino aqui\n",
        "input = [      \n",
        "        #tom\n",
        "        [[0,1,1,1,1], [1]],\n",
        "        #pam\n",
        "        # [[1,0,1,0,1], [0]],\n",
        "        #liz\n",
        "        [[1,0,0,0,0], [0]],\n",
        "        #bob\n",
        "        [[0,1,1,1,0], [1]],\n",
        "        #ann\n",
        "        [[1,0,1,1,0], [1]],\n",
        "        #pat\n",
        "        [[1,0,1,0,1], [0]],\n",
        "        #jim\n",
        "        [[0,1,0,0,0], [0]],\n",
        "        #eve\n",
        "        [[1,0,0,0,0], [0]],\n",
        "        \n",
        "]\n",
        "\n",
        "\n",
        "P = [['A', ['B', 'D','E']], ['A', ['C', 'D','E']]]\n",
        "\n",
        "q, v, K = q_v_k(P)\n",
        "U = u_heads(P)\n",
        "amin = (1 - Amin(K,U))/2 + Amin(K,U)\n",
        "w = W_pesos(K, U, 1, amin)\n",
        "pesos = pesos_clauses(P,w,amin)\n",
        "\n",
        "print(\"Numero de Entradas:\",v)\n",
        "print(\"Numero de Camadas Ocultas:\",q)\n",
        "\n",
        "# Estrutura da rede\n",
        "  # n entradas\n",
        "  # n camadas invisíveis\n",
        "  # n saídas \n",
        "  # lista de pesos\n",
        "  # W calculado\n",
        "n = NN(v, q, 1, pesos, w)\n",
        "\n",
        "#Treino\n",
        "n.train(input)\n"
      ],
      "metadata": {
        "colab": {
          "base_uri": "https://localhost:8080/"
        },
        "outputId": "81877482-afa5-4c03-fe9a-464692639cba",
        "id": "XRkW0byT6Kds"
      },
      "execution_count": 10,
      "outputs": [
        {
          "output_type": "stream",
          "name": "stdout",
          "text": [
            "Numero de Entradas: 5\n",
            "Numero de Camadas Ocultas: 2\n"
          ]
        }
      ]
    },
    {
      "cell_type": "markdown",
      "source": [
        "###Teste"
      ],
      "metadata": {
        "id": "WCESK8nV6Kds"
      }
    },
    {
      "cell_type": "code",
      "source": [
        "\n",
        "#Teste\n",
        "output = [      \n",
        "        #pam\n",
        "        [[1,0,1,0,1],[0]],\n",
        "        #bob\n",
        "        [[0,1,1,1,0],[1]],\n",
        "        #pat\n",
        "        [[1,0,1,0,1],[0]],\n",
        "]\n",
        "n.test(output)"
      ],
      "metadata": {
        "colab": {
          "base_uri": "https://localhost:8080/"
        },
        "outputId": "9ebe658f-ac52-48ec-c61a-4fb8a92c39a5",
        "id": "zoL8ad5l6Kds"
      },
      "execution_count": 11,
      "outputs": [
        {
          "output_type": "stream",
          "name": "stdout",
          "text": [
            "[1, 0, 1, 0, 1] - predição -> [0] resultado esperado -> [0]\n",
            "[0, 1, 1, 1, 0] - predição -> [0] resultado esperado -> [1]\n",
            "[1, 0, 1, 0, 1] - predição -> [0] resultado esperado -> [0]\n"
          ]
        }
      ]
    },
    {
      "cell_type": "code",
      "source": [
        ""
      ],
      "metadata": {
        "id": "60Moa7rV6Kds"
      },
      "execution_count": 11,
      "outputs": []
    }
  ]
}